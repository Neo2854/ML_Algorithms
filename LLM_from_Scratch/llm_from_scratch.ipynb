{
 "cells": [
  {
   "cell_type": "code",
   "execution_count": 49,
   "id": "a4e55416",
   "metadata": {},
   "outputs": [],
   "source": [
    "import torch\n",
    "import torch.nn as nn"
   ]
  },
  {
   "cell_type": "code",
   "execution_count": 50,
   "id": "80d1cdfa",
   "metadata": {},
   "outputs": [
    {
     "data": {
      "text/plain": [
       "<torch._C.Generator at 0x1e871a77470>"
      ]
     },
     "execution_count": 50,
     "metadata": {},
     "output_type": "execute_result"
    }
   ],
   "source": [
    "torch.manual_seed(13)"
   ]
  },
  {
   "cell_type": "code",
   "execution_count": 51,
   "id": "67e44c4d",
   "metadata": {},
   "outputs": [
    {
     "name": "stdout",
     "output_type": "stream",
     "text": [
      "input vectors: tensor([[0.0918, 0.4794, 0.8106],\n",
      "        [0.0151, 0.0153, 0.6036],\n",
      "        [0.2318, 0.8633, 0.9859],\n",
      "        [0.1975, 0.0830, 0.4253],\n",
      "        [0.9149, 0.4799, 0.5348],\n",
      "        [0.2695, 0.2530, 0.3390]])\n",
      "context_vectors: tensor([[0.2910, 0.4493, 0.6830],\n",
      "        [0.2795, 0.3944, 0.6475],\n",
      "        [0.3042, 0.4965, 0.7123],\n",
      "        [0.2998, 0.3949, 0.6389],\n",
      "        [0.3800, 0.4470, 0.6501],\n",
      "        [0.3116, 0.4064, 0.6421]])\n"
     ]
    }
   ],
   "source": [
    "class SimpleSelfAttention(nn.Module):\n",
    "    def __init__(self):\n",
    "        super().__init__()\n",
    "        pass\n",
    "\n",
    "    def forward(self, x):\n",
    "        attention_scores = x @ x.T\n",
    "        attention_weights = torch.softmax(attention_scores, dim = -1)\n",
    "        context_vectors = attention_weights @ x\n",
    "\n",
    "        return context_vectors\n",
    "\n",
    "inputs = torch.rand((6, 3))\n",
    "\n",
    "print(\"input vectors:\", inputs)\n",
    "\n",
    "simple_attn = SimpleSelfAttention()\n",
    "\n",
    "print(\"context_vectors:\", simple_attn(inputs))"
   ]
  },
  {
   "cell_type": "code",
   "execution_count": 52,
   "id": "c92adb7b",
   "metadata": {},
   "outputs": [
    {
     "name": "stdout",
     "output_type": "stream",
     "text": [
      "input vectors: tensor([[0.8367, 0.1289, 0.9693],\n",
      "        [0.4495, 0.4031, 0.8202],\n",
      "        [0.9792, 0.3278, 0.4076],\n",
      "        [0.7276, 0.4506, 0.2334],\n",
      "        [0.0411, 0.2441, 0.6077],\n",
      "        [0.8273, 0.9808, 0.2711]])\n",
      "context_vectors: tensor([[0.0317, 0.2223],\n",
      "        [0.0301, 0.2131],\n",
      "        [0.0315, 0.2122],\n",
      "        [0.0305, 0.2057],\n",
      "        [0.0289, 0.2092],\n",
      "        [0.0304, 0.1988]], grad_fn=<MmBackward0>)\n"
     ]
    }
   ],
   "source": [
    "class SelfAttention(nn.Module):\n",
    "    def __init__(self, d_in, d_out, bias = False):\n",
    "        super().__init__()\n",
    "\n",
    "        self.W_q = nn.Linear(d_in, d_out, bias)\n",
    "        self.W_k = nn.Linear(d_in, d_out, bias)\n",
    "        self.W_v = nn.Linear(d_in, d_out, bias)\n",
    "\n",
    "    def forward(self, x):\n",
    "        x_q = self.W_q(x)\n",
    "        x_k = self.W_k(x)\n",
    "        x_v = self.W_v(x)\n",
    "\n",
    "        attn_scores = x_q @ x_k.T\n",
    "        attn_weights = torch.softmax(attn_scores / x_k.shape[-1]**0.5, dim = -1)\n",
    "\n",
    "        context_vectors = attn_weights @ x_v\n",
    "\n",
    "        return context_vectors\n",
    "    \n",
    "inputs = torch.rand((6, 3))\n",
    "\n",
    "print(\"input vectors:\", inputs)\n",
    "\n",
    "self_attn = SelfAttention(3, 2)\n",
    "\n",
    "print(\"context_vectors:\", self_attn(inputs))"
   ]
  },
  {
   "cell_type": "code",
   "execution_count": 53,
   "id": "246a5b5a",
   "metadata": {},
   "outputs": [
    {
     "name": "stdout",
     "output_type": "stream",
     "text": [
      "input vectors: tensor([[[0.6962, 0.5262, 0.2312],\n",
      "         [0.6436, 0.1238, 0.6160],\n",
      "         [0.0873, 0.3889, 0.3837],\n",
      "         [0.3722, 0.0526, 0.0294],\n",
      "         [0.3711, 0.5818, 0.8501],\n",
      "         [0.9642, 0.6270, 0.0568]],\n",
      "\n",
      "        [[0.0031, 0.2991, 0.2265],\n",
      "         [0.5508, 0.3316, 0.1820],\n",
      "         [0.0930, 0.6206, 0.9111],\n",
      "         [0.2370, 0.0340, 0.9527],\n",
      "         [0.1492, 0.7638, 0.5858],\n",
      "         [0.8560, 0.2700, 0.7211]]])\n",
      "context_vectors: tensor([[[ 0.5911, -0.5495,  0.0423],\n",
      "         [ 0.5815, -0.4355,  0.0276],\n",
      "         [ 0.5029, -0.3696,  0.1214],\n",
      "         [ 0.4228, -0.3201,  0.0585],\n",
      "         [ 0.4895, -0.3488,  0.1428],\n",
      "         [ 0.5084, -0.4006,  0.0977]],\n",
      "\n",
      "        [[ 0.2106, -0.1561,  0.2397],\n",
      "         [ 0.3211, -0.2721,  0.1165],\n",
      "         [ 0.4388, -0.3043,  0.2942],\n",
      "         [ 0.4588, -0.2569,  0.2949],\n",
      "         [ 0.4818, -0.2955,  0.3405],\n",
      "         [ 0.5293, -0.3267,  0.2915]]], grad_fn=<UnsafeViewBackward0>)\n"
     ]
    }
   ],
   "source": [
    "class CasualAttention(nn.Module):\n",
    "    def __init__(self, d_in, d_out, context_length, dropout, bias = False):\n",
    "        super().__init__()\n",
    "        self.W_q = nn.Linear(d_in, d_out, bias)\n",
    "        self.W_k = nn.Linear(d_in, d_out, bias)\n",
    "        self.W_v = nn.Linear(d_in, d_out, bias)\n",
    "\n",
    "        self.dropout = nn.Dropout(dropout)\n",
    "\n",
    "        self.mask = torch.triu(torch.ones(context_length, context_length), diagonal=1)\n",
    "\n",
    "    def forward(self, x):\n",
    "        b, num_tokens, d_in = x.shape\n",
    "\n",
    "        x_q = self.W_q(x)\n",
    "        x_k = self.W_k(x)\n",
    "        x_v = self.W_v(x)\n",
    "\n",
    "        attn_scores = x_q @ x_k.transpose(1, 2)\n",
    "        attn_scores.masked_fill_(self.mask.bool()[:num_tokens, :num_tokens], -torch.inf)\n",
    "\n",
    "        attn_weights = torch.softmax(attn_scores / x_k.shape[-1] ** 0.5, dim = -1)\n",
    "\n",
    "        attn_weights = self.dropout(attn_weights)\n",
    "\n",
    "        context_vectors = attn_weights @ x_v\n",
    "\n",
    "        return context_vectors\n",
    "    \n",
    "inputs = torch.rand((2, 6, 3))\n",
    "\n",
    "print(\"input vectors:\", inputs)\n",
    "\n",
    "cas_attn = CasualAttention(3, 3, 6, 0)\n",
    "\n",
    "print(\"context_vectors:\", cas_attn(inputs))"
   ]
  },
  {
   "cell_type": "code",
   "execution_count": 54,
   "id": "5edcece5",
   "metadata": {},
   "outputs": [
    {
     "name": "stdout",
     "output_type": "stream",
     "text": [
      "input vectors: tensor([[[0.6069, 0.6346, 0.2570],\n",
      "         [0.4978, 0.5292, 0.6207],\n",
      "         [0.6042, 0.9654, 0.2792],\n",
      "         [0.7618, 0.5583, 0.0870],\n",
      "         [0.7451, 0.8755, 0.9874],\n",
      "         [0.6039, 0.3986, 0.2782]],\n",
      "\n",
      "        [[0.8604, 0.1442, 0.1881],\n",
      "         [0.9453, 0.4741, 0.7547],\n",
      "         [0.5609, 0.3357, 0.5604],\n",
      "         [0.7825, 0.4710, 0.4185],\n",
      "         [0.3601, 0.0065, 0.6250],\n",
      "         [0.3426, 0.0959, 0.9077]]])\n",
      "context_vectors: torch.Size([2, 6, 4]) \n",
      " tensor([[[ 0.3551,  0.2561,  0.5592, -0.1051],\n",
      "         [ 0.3093, -0.0781,  0.6471, -0.0024],\n",
      "         [ 0.2425, -0.0514,  0.5994,  0.0654],\n",
      "         [ 0.3411, -0.0645,  0.6742, -0.0191],\n",
      "         [ 0.3074, -0.1097,  0.6693,  0.0169],\n",
      "         [ 0.2898,  0.0148,  0.5932, -0.0062]],\n",
      "\n",
      "        [[ 0.3018,  0.1400,  0.4481, -0.1227],\n",
      "         [ 0.2839,  0.1380,  0.4653, -0.0608],\n",
      "         [ 0.3076, -0.1412,  0.5609, -0.0545],\n",
      "         [ 0.2869, -0.0890,  0.5627, -0.0163],\n",
      "         [ 0.2167,  0.0412,  0.5111,  0.0495],\n",
      "         [ 0.2653,  0.0644,  0.5046, -0.0308]]], grad_fn=<ViewBackward0>)\n"
     ]
    }
   ],
   "source": [
    "class MultiHeadAttention(nn.Module):\n",
    "    def __init__(self, d_in, d_out, context_length, dropout, num_heads, bias = False):\n",
    "        super().__init__()\n",
    "\n",
    "        assert (d_out % num_heads == 0), \"d_out must be divisible by num_heads\"\n",
    "\n",
    "        self.d_out = d_out\n",
    "        self.num_heads = num_heads\n",
    "\n",
    "        self.W_q = nn.Linear(d_in, d_out, bias)\n",
    "        self.W_k = nn.Linear(d_in, d_out, bias)\n",
    "        self.W_v = nn.Linear(d_in, d_out, bias)\n",
    "\n",
    "        self.head_dim = d_out // num_heads\n",
    "\n",
    "        self.out_proj = nn.Linear(d_out, d_out)\n",
    "        self.dropout = nn.Dropout(dropout)\n",
    "\n",
    "        self.register_buffer(\n",
    "            \"mask\",\n",
    "            torch.triu(torch.ones(context_length, context_length), diagonal=1)\n",
    "        )\n",
    "\n",
    "    def forward(self, x):\n",
    "        b, num_tokens, d_in = x.shape\n",
    "\n",
    "        x_q = self.W_q(x)\n",
    "        x_k = self.W_k(x)\n",
    "        x_v = self.W_v(x)\n",
    "\n",
    "        queries = x_q.view(b, num_tokens, self.num_heads, self.head_dim)\n",
    "        keys = x_k.view(b, num_tokens, self.num_heads, self.head_dim)\n",
    "        values = x_v.view(b, num_tokens, self.num_heads, self.head_dim)\n",
    "\n",
    "        queries = queries.transpose(1, 2)\n",
    "        keys = keys.transpose(1, 2)\n",
    "        values = values.transpose(1, 2)\n",
    "\n",
    "        attn_scores = queries @ keys.transpose(2, 3)\n",
    "        attn_scores.masked_fill_(\n",
    "            self.mask.bool()[:num_tokens, :num_tokens],\n",
    "            -torch.inf\n",
    "        )\n",
    "\n",
    "        attn_weights = torch.softmax(attn_scores / keys.shape[-1] ** 0.5, dim = -1)\n",
    "        attn_weights = self.dropout(attn_weights)\n",
    "\n",
    "        context_vec = (attn_weights @ values).transpose(1, 2)\n",
    "\n",
    "        context_vec = context_vec.contiguous().view(b, num_tokens, self.d_out)\n",
    "        \n",
    "        context_vec = self.out_proj(context_vec)\n",
    "\n",
    "        return context_vec\n",
    "    \n",
    "inputs = torch.rand((2, 6, 3))\n",
    "\n",
    "print(\"input vectors:\", inputs)\n",
    "\n",
    "mul_attn = MultiHeadAttention(3, 4, 6, 0.3, 2)\n",
    "\n",
    "context_vecs = mul_attn(inputs)\n",
    "print(\"context_vectors:\", context_vecs.shape, \"\\n\", context_vecs)"
   ]
  }
 ],
 "metadata": {
  "kernelspec": {
   "display_name": "Python 3",
   "language": "python",
   "name": "python3"
  },
  "language_info": {
   "codemirror_mode": {
    "name": "ipython",
    "version": 3
   },
   "file_extension": ".py",
   "mimetype": "text/x-python",
   "name": "python",
   "nbconvert_exporter": "python",
   "pygments_lexer": "ipython3",
   "version": "3.13.7"
  }
 },
 "nbformat": 4,
 "nbformat_minor": 5
}
